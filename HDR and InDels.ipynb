{
 "cells": [
  {
   "cell_type": "code",
   "execution_count": 1,
   "metadata": {},
   "outputs": [],
   "source": [
    "import re\n",
    "import csv\n",
    "from funcs import *"
   ]
  },
  {
   "cell_type": "code",
   "execution_count": 10,
   "metadata": {},
   "outputs": [],
   "source": [
    "def find_indels(char, string):\n",
    "    global indexes\n",
    "    position = string.find(char) + 1\n",
    "    indexes.append(position)\n",
    "    new_string = string[position + len(char)-1:]\n",
    "    if char in new_string:\n",
    "        return find_indels(char, new_string)\n",
    "    if len(indexes) > 1:\n",
    "        for i in range(1, len(indexes)):\n",
    "            indexes[i] += indexes[i-1] + len(char) - 1"
   ]
  },
  {
   "cell_type": "markdown",
   "metadata": {},
   "source": [
    "Переходим в папку с BAM-файлом"
   ]
  },
  {
   "cell_type": "code",
   "execution_count": 7,
   "metadata": {},
   "outputs": [
    {
     "name": "stdout",
     "output_type": "stream",
     "text": [
      "/Users/macbookair/20210610_g170_pool/124\n"
     ]
    }
   ],
   "source": [
    "cd PATH_TO_BAM_FILE"
   ]
  },
  {
   "cell_type": "markdown",
   "metadata": {},
   "source": [
    "### Считаем HDR"
   ]
  },
  {
   "cell_type": "markdown",
   "metadata": {},
   "source": [
    "Запускаем программу pysamstats, указав ей путь к референсу и BAM-файл"
   ]
  },
  {
   "cell_type": "code",
   "execution_count": 8,
   "metadata": {},
   "outputs": [
    {
     "name": "stdout",
     "output_type": "stream",
     "text": [
      "<frozen importlib._bootstrap>:219: RuntimeWarning: pysam.libcalignedsegment.PileupColumn size changed, may indicate binary incompatibility. Expected 72 from C header, got 88 from PyObject\r\n"
     ]
    }
   ],
   "source": [
    "!pysamstats -f PATH_TO_REFERENCE --type variation \\\n",
    "    --max-depth=50000 BAM_FILE.bam | grep -E \"3387|chrom\" | cut -f2,3,4,16 > hdr_stats.txt\n",
    "\n",
    "with open('hdr_stats.txt') as hdr:\n",
    "    next(hdr)\n",
    "    for line in hdr:\n",
    "        number_HDR = int(line.split()[-1])\n",
    "        percent_HDR = str(round(int(line.split()[-1]) / int(line.split()[-2]) * 100, 3)) + '%'"
   ]
  },
  {
   "cell_type": "markdown",
   "metadata": {},
   "source": [
    "### Считаем инделы"
   ]
  },
  {
   "cell_type": "markdown",
   "metadata": {},
   "source": [
    "Запускаем команду, выбрав соответствующий BAM-файл и поменяв название выходного файла:"
   ]
  },
  {
   "cell_type": "code",
   "execution_count": null,
   "metadata": {},
   "outputs": [],
   "source": [
    "!samtools view sorted_124.bam | cut -f1,4,6,9 | sort -o CIGARS.tsv"
   ]
  },
  {
   "cell_type": "markdown",
   "metadata": {},
   "source": [
    "Запускаем скрипт по поиску инделов, заменив, если нужно, название файла в первой строчке"
   ]
  },
  {
   "cell_type": "code",
   "execution_count": 16,
   "metadata": {},
   "outputs": [],
   "source": [
    "with open('CIGARS.tsv') as read_file:\n",
    "    tsvreader = csv.reader(read_file, delimiter=\"\\t\")\n",
    "    read_list = [line for line in tsvreader]\n",
    "\n",
    "\n",
    "filtered_dict = dict()\n",
    "for read in read_list:\n",
    "    if read[0] not in filtered_dict.keys():\n",
    "        filtered_dict[read[0]] = read[1:4]\n",
    "    else:\n",
    "        filtered_dict[read[0]] += read[1:4]\n",
    "        \n",
    "\n",
    "reads_forward, reads_reverse = list(), list()\n",
    "for read in read_list:\n",
    "    if int(read[3]) > 0:\n",
    "        reads_forward.append(decode_CIGAR(string_code=read[2], starting_position=read[1]))\n",
    "    else:\n",
    "        reads_reverse.append(decode_CIGAR(string_code=read[2], starting_position=read[1]))\n",
    "\n",
    "        \n",
    "ROI_forward = [select_region(i[1], i[0]) for i in reads_forward]\n",
    "ROI_reverse = [select_region(i[1], i[0]) for i in reads_reverse]\n",
    "\n",
    "\n",
    "final_ROIs = dict()\n",
    "for string in ROI_forward:\n",
    "    if string[1] != '':\n",
    "        if string[1] not in final_ROIs.keys():\n",
    "            final_ROIs[string[1]] = [1, string[0]]\n",
    "        else:\n",
    "            final_ROIs[string[1]][0] += 1\n",
    "for string in ROI_reverse:\n",
    "    if string[1] != '':\n",
    "        if string[1] not in final_ROIs.keys():\n",
    "            final_ROIs[string[1]] = [1, string[0]]\n",
    "        else:\n",
    "            final_ROIs[string[1]][0] += 1\n",
    "\n",
    "            \n",
    "STATS = {}\n",
    "D_3393 = int()\n",
    "\n",
    "\n",
    "for key, value in final_ROIs.items():\n",
    "    if re.search(r'[A-Z]', key) != None:\n",
    "            indels = set(indel for indel in re.findall(r'\\.+(D+|I+)', key) if indel != '')\n",
    "            \n",
    "            for i in indels:\n",
    "                indexes=[]\n",
    "                find_indels('.' + i + '.', key)\n",
    "                indexes = [j + value[1] for j in indexes]\n",
    "                \n",
    "                for j in indexes:\n",
    "                    if 3378 <= j < 3387 or j < 3378 and j + len(i) >= 3383: \n",
    "                        new_key = i + '_' + str(j)\n",
    "                        if new_key not in STATS.keys():\n",
    "                            STATS[new_key] = value[0]\n",
    "                        else:\n",
    "                            STATS[new_key] += value[0]\n",
    "                    elif j == 3393:\n",
    "                        if i == 'D':\n",
    "                            D_3393 += value[0]\n",
    "STATS = sort_dict(STATS)\n",
    "\n",
    "\n",
    "total_reads = 0\n",
    "for n in final_ROIs.values():\n",
    "    total_reads += int(n[0])\n",
    "\n",
    "    \n",
    "with open('OUTPUT.csv', 'w') as output:\n",
    "    output.write(str('Header;Count;Percent;'+'\\n'))\n",
    "    output.write(str('Total number of reads;' + str(total_reads)+';'+'\\n'))\n",
    "    output.write(str('Indels in ROI;'+str(sum(STATS.values()))+';'+str(round(sum(STATS.values())/total_reads * 100, 3)))+'\\n')\n",
    "    output.write(str('HDRs;' + str(number_HDR) + ';' + str(percent_HDR)+'\\n'))"
   ]
  },
  {
   "cell_type": "code",
   "execution_count": null,
   "metadata": {},
   "outputs": [],
   "source": []
  }
 ],
 "metadata": {
  "kernelspec": {
   "display_name": "Python 3",
   "language": "python",
   "name": "python3"
  },
  "language_info": {
   "codemirror_mode": {
    "name": "ipython",
    "version": 3
   },
   "file_extension": ".py",
   "mimetype": "text/x-python",
   "name": "python",
   "nbconvert_exporter": "python",
   "pygments_lexer": "ipython3",
   "version": "3.8.3"
  }
 },
 "nbformat": 4,
 "nbformat_minor": 4
}
